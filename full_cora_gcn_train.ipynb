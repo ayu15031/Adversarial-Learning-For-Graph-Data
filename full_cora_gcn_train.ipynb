{
 "cells": [
  {
   "cell_type": "code",
   "execution_count": 178,
   "id": "65a7c0fb",
   "metadata": {},
   "outputs": [],
   "source": [
    "import argparse\n",
    "\n",
    "import torch\n",
    "import torch.nn as nn\n",
    "import torch.nn.functional as F\n",
    "\n",
    "import dgl.nn as dglnn\n",
    "from dgl import AddSelfLoop\n",
    "from dgl.data import CoraGraphDataset\n",
    "import torch\n",
    "import torch.nn as nn\n",
    "import torch.nn.functional as F"
   ]
  },
  {
   "cell_type": "code",
   "execution_count": 179,
   "id": "e5f2af85",
   "metadata": {},
   "outputs": [],
   "source": [
    "import os\n",
    "os.environ['DGLBACKEND'] = 'pytorch'\n",
    "import torch as th\n",
    "import torch.nn as nn\n",
    "import torch.nn.functional as F\n",
    "\n",
    "import dgl\n",
    "import dgl.function as fn\n",
    "from dgl import DGLGraph\n"
   ]
  },
  {
   "cell_type": "code",
   "execution_count": 180,
   "id": "9a3cf930",
   "metadata": {},
   "outputs": [],
   "source": [
    "class GCNLayer(nn.Module):\n",
    "    def __init__(self, in_feats, out_feats):\n",
    "        super(GCNLayer, self).__init__()\n",
    "        self.linear = nn.Linear(in_feats, out_feats)\n",
    "\n",
    "    def forward(self, g, feature):\n",
    "        # Creating a local scope so that all the stored ndata and edata\n",
    "        # (such as the `'h'` ndata below) are automatically popped out\n",
    "        # when the scope exits.\n",
    "        with g.local_scope():\n",
    "            g.ndata[\"h\"] = feature\n",
    "            g.update_all(gcn_msg, gcn_reduce)\n",
    "            h = g.ndata[\"h\"]\n",
    "            return self.linear(h)\n"
   ]
  },
  {
   "cell_type": "code",
   "execution_count": 201,
   "id": "f9012763",
   "metadata": {},
   "outputs": [],
   "source": [
    "class Net(nn.Module):\n",
    "    def __init__(self):\n",
    "        super(Net, self).__init__()\n",
    "        self.layer1 = GCNLayer(8710, 16)\n",
    "        self.layer2 = GCNLayer(16, 5)\n",
    "\n",
    "    def forward(self, g, features):\n",
    "        x = F.relu(self.layer1(g, features))\n",
    "        x = self.layer2(g, x)\n",
    "        return x"
   ]
  },
  {
   "cell_type": "code",
   "execution_count": 258,
   "id": "e2f90f7a",
   "metadata": {},
   "outputs": [
    {
     "name": "stdout",
     "output_type": "stream",
     "text": [
      "Net(\n",
      "  (layer1): GCNLayer(\n",
      "    (linear): Linear(in_features=8710, out_features=16, bias=True)\n",
      "  )\n",
      "  (layer2): GCNLayer(\n",
      "    (linear): Linear(in_features=16, out_features=5, bias=True)\n",
      "  )\n",
      ")\n"
     ]
    }
   ],
   "source": [
    "net = Net()\n",
    "print(net)"
   ]
  },
  {
   "cell_type": "code",
   "execution_count": 250,
   "id": "078df178",
   "metadata": {},
   "outputs": [
    {
     "data": {
      "text/html": [
       "<div>\n",
       "<style scoped>\n",
       "    .dataframe tbody tr th:only-of-type {\n",
       "        vertical-align: middle;\n",
       "    }\n",
       "\n",
       "    .dataframe tbody tr th {\n",
       "        vertical-align: top;\n",
       "    }\n",
       "\n",
       "    .dataframe thead th {\n",
       "        text-align: right;\n",
       "    }\n",
       "</style>\n",
       "<table border=\"1\" class=\"dataframe\">\n",
       "  <thead>\n",
       "    <tr style=\"text-align: right;\">\n",
       "      <th></th>\n",
       "      <th>feats</th>\n",
       "      <th>labels</th>\n",
       "    </tr>\n",
       "  </thead>\n",
       "  <tbody>\n",
       "    <tr>\n",
       "      <th>0</th>\n",
       "      <td>0</td>\n",
       "      <td>3</td>\n",
       "    </tr>\n",
       "    <tr>\n",
       "      <th>1</th>\n",
       "      <td>1</td>\n",
       "      <td>3</td>\n",
       "    </tr>\n",
       "    <tr>\n",
       "      <th>2</th>\n",
       "      <td>2</td>\n",
       "      <td>2</td>\n",
       "    </tr>\n",
       "    <tr>\n",
       "      <th>3</th>\n",
       "      <td>3</td>\n",
       "      <td>3</td>\n",
       "    </tr>\n",
       "    <tr>\n",
       "      <th>4</th>\n",
       "      <td>4</td>\n",
       "      <td>1</td>\n",
       "    </tr>\n",
       "  </tbody>\n",
       "</table>\n",
       "</div>"
      ],
      "text/plain": [
       "   feats  labels\n",
       "0      0       3\n",
       "1      1       3\n",
       "2      2       2\n",
       "3      3       3\n",
       "4      4       1"
      ]
     },
     "execution_count": 250,
     "metadata": {},
     "output_type": "execute_result"
    }
   ],
   "source": [
    "from GOOD.data.good_datasets.good_cora import GOODCora\n",
    "import torch\n",
    "import dgl \n",
    "\n",
    "cora_datasets, cora_meta_info = GOODCora.load(\"good_data/\", domain='word', shift='covariate', generate=False)\n",
    "dataset = cora_datasets.data\n",
    "\n",
    "# dataset = CoraGraphDataset()\n",
    "\n",
    "\n",
    "g = dgl.graph((dataset.edge_index[0], dataset.edge_index[1]))\n",
    "g.ndata['feats'] = dataset.x\n",
    "g.ndata['labels'] = dataset.y\n",
    "g.ndata['train_mask'] = dataset.train_mask\n",
    "g.ndata['val_mask'] = dataset.val_mask\n",
    "g.ndata['test_mask'] = dataset.test_mask\n",
    "g.ndata['id_val_mask'] = dataset.id_val_mask\n",
    "g.ndata['id_test_mask'] = dataset.id_test_mask\n",
    "\n",
    "\n",
    "labels_to_keep = [57, 33, 27, 7, 53]\n",
    "labels_not_to_keep = list(set(range(70)) - set(labels_to_keep))\n",
    "for label in labels_not_to_keep:\n",
    "    label_idx = g.ndata['labels'] == label\n",
    "    idxs = [i for i, x in enumerate(label_idx) if x]\n",
    "    \n",
    "    g = dgl.remove_nodes(g, idxs)\n",
    "\n",
    "label_map = {\n",
    "    57: 0,\n",
    "    33: 1,\n",
    "    27: 2,\n",
    "    7: 3,\n",
    "    53: 4\n",
    "}\n",
    "\n",
    "for i in range(g.num_nodes()):\n",
    "    g.ndata['labels'][i] = torch.tensor(label_map[int(g.ndata['labels'][i])])\n",
    "    \n",
    "feats = g.ndata['feats'] \n",
    "labels = g.ndata['labels']\n",
    "data = pd.DataFrame({'feats': torch.tensor(range(feats.shape[0])), 'labels': labels})\n",
    "data['labels'].value_counts()\n",
    "\n",
    "import pandas as pd\n",
    "\n",
    "feats = g.ndata['feats']\n",
    "labels = g.ndata['labels']\n",
    "data = pd.DataFrame({'feats': torch.tensor(range(feats.shape[0])), 'labels': labels})\n",
    "data.head()"
   ]
  },
  {
   "cell_type": "code",
   "execution_count": 251,
   "id": "8e6d3f39",
   "metadata": {},
   "outputs": [
    {
     "data": {
      "text/html": [
       "<div>\n",
       "<style scoped>\n",
       "    .dataframe tbody tr th:only-of-type {\n",
       "        vertical-align: middle;\n",
       "    }\n",
       "\n",
       "    .dataframe tbody tr th {\n",
       "        vertical-align: top;\n",
       "    }\n",
       "\n",
       "    .dataframe thead th {\n",
       "        text-align: right;\n",
       "    }\n",
       "</style>\n",
       "<table border=\"1\" class=\"dataframe\">\n",
       "  <thead>\n",
       "    <tr style=\"text-align: right;\">\n",
       "      <th></th>\n",
       "      <th>Unnamed: 0</th>\n",
       "      <th>feats</th>\n",
       "      <th>labels</th>\n",
       "    </tr>\n",
       "  </thead>\n",
       "  <tbody>\n",
       "    <tr>\n",
       "      <th>0</th>\n",
       "      <td>0</td>\n",
       "      <td>2</td>\n",
       "      <td>2</td>\n",
       "    </tr>\n",
       "    <tr>\n",
       "      <th>1</th>\n",
       "      <td>1</td>\n",
       "      <td>3</td>\n",
       "      <td>3</td>\n",
       "    </tr>\n",
       "    <tr>\n",
       "      <th>2</th>\n",
       "      <td>2</td>\n",
       "      <td>5</td>\n",
       "      <td>1</td>\n",
       "    </tr>\n",
       "    <tr>\n",
       "      <th>3</th>\n",
       "      <td>3</td>\n",
       "      <td>8</td>\n",
       "      <td>1</td>\n",
       "    </tr>\n",
       "    <tr>\n",
       "      <th>4</th>\n",
       "      <td>4</td>\n",
       "      <td>9</td>\n",
       "      <td>3</td>\n",
       "    </tr>\n",
       "  </tbody>\n",
       "</table>\n",
       "</div>"
      ],
      "text/plain": [
       "   Unnamed: 0  feats  labels\n",
       "0           0      2       2\n",
       "1           1      3       3\n",
       "2           2      5       1\n",
       "3           3      8       1\n",
       "4           4      9       3"
      ]
     },
     "execution_count": 251,
     "metadata": {},
     "output_type": "execute_result"
    }
   ],
   "source": [
    "aflite_data = pd.read_csv(\"aflite_cora_full.csv\")\n",
    "aflite_data.head()"
   ]
  },
  {
   "cell_type": "code",
   "execution_count": 252,
   "id": "24088f42",
   "metadata": {},
   "outputs": [
    {
     "name": "stdout",
     "output_type": "stream",
     "text": [
      "1565\n"
     ]
    }
   ],
   "source": [
    "removed_nodes = torch.tensor(list(set(range(len(data))) - set(aflite_data['feats'].values)))\n",
    "print(len(removed_nodes))"
   ]
  },
  {
   "cell_type": "code",
   "execution_count": 253,
   "id": "a7d50f7d",
   "metadata": {},
   "outputs": [],
   "source": [
    "# g.remove_nodes(removed_nodes)\n",
    "g = dgl.remove_nodes(g, removed_nodes)"
   ]
  },
  {
   "cell_type": "code",
   "execution_count": 254,
   "id": "34901ac7",
   "metadata": {},
   "outputs": [
    {
     "name": "stdout",
     "output_type": "stream",
     "text": [
      "torch.Size([2314, 8710])\n"
     ]
    }
   ],
   "source": [
    "features = g.ndata[\"feats\"]\n",
    "labels = g.ndata[\"labels\"]\n",
    "train_mask = g.ndata[\"train_mask\"]\n",
    "test_mask = g.ndata[\"test_mask\"]\n",
    "test_mask_id = g.ndata[\"id_test_mask\"]\n",
    "print(features.shape)"
   ]
  },
  {
   "cell_type": "code",
   "execution_count": 255,
   "id": "744f9c70",
   "metadata": {},
   "outputs": [
    {
     "data": {
      "text/plain": [
       "(tensor(988), tensor(464), tensor(224))"
      ]
     },
     "execution_count": 255,
     "metadata": {},
     "output_type": "execute_result"
    }
   ],
   "source": [
    "sum(train_mask), sum(test_mask), sum(test_mask_id)"
   ]
  },
  {
   "cell_type": "code",
   "execution_count": 256,
   "id": "b10fafac",
   "metadata": {},
   "outputs": [],
   "source": [
    "\n",
    "def evaluate(model, g, features, labels, mask):\n",
    "    model.eval()\n",
    "    with th.no_grad():\n",
    "        logits = model(g, features)\n",
    "        logits = logits[mask]\n",
    "        labels = labels[mask]\n",
    "        _, indices = th.max(logits, dim=1)\n",
    "        correct = th.sum(indices == labels)\n",
    "        return correct.item() * 1.0 / len(labels)\n",
    "    \n",
    "gcn_msg = fn.copy_u(u=\"h\", out=\"m\")\n",
    "gcn_reduce = fn.sum(msg=\"m\", out=\"h\")\n"
   ]
  },
  {
   "cell_type": "code",
   "execution_count": 259,
   "id": "bd2e8247",
   "metadata": {},
   "outputs": [
    {
     "name": "stdout",
     "output_type": "stream",
     "text": [
      "Epoch 00000 | Loss 1.7053 | Test OOD Acc 0.3578 | Test ID Acc 0.3795 | Time(s) nan\n",
      "Epoch 00001 | Loss 2.5703 | Test OOD Acc 0.3944 | Test ID Acc 0.4732 | Time(s) nan\n",
      "Epoch 00002 | Loss 7.2510 | Test OOD Acc 0.4504 | Test ID Acc 0.5446 | Time(s) nan\n",
      "Epoch 00003 | Loss 4.5790 | Test OOD Acc 0.5711 | Test ID Acc 0.6116 | Time(s) 0.0830\n",
      "Epoch 00004 | Loss 1.3197 | Test OOD Acc 0.6099 | Test ID Acc 0.6473 | Time(s) 0.0784\n",
      "Epoch 00005 | Loss 1.3371 | Test OOD Acc 0.6293 | Test ID Acc 0.6696 | Time(s) 0.0767\n",
      "Epoch 00006 | Loss 1.8683 | Test OOD Acc 0.6616 | Test ID Acc 0.7098 | Time(s) 0.0769\n",
      "Epoch 00007 | Loss 1.6745 | Test OOD Acc 0.6918 | Test ID Acc 0.7321 | Time(s) 0.0772\n",
      "Epoch 00008 | Loss 1.2799 | Test OOD Acc 0.7198 | Test ID Acc 0.7500 | Time(s) 0.0783\n",
      "Epoch 00009 | Loss 0.9498 | Test OOD Acc 0.7349 | Test ID Acc 0.7634 | Time(s) 0.0781\n",
      "Epoch 00010 | Loss 0.7204 | Test OOD Acc 0.7241 | Test ID Acc 0.7812 | Time(s) 0.0778\n",
      "Epoch 00011 | Loss 0.6464 | Test OOD Acc 0.7241 | Test ID Acc 0.7634 | Time(s) 0.0781\n",
      "Epoch 00012 | Loss 0.6579 | Test OOD Acc 0.7284 | Test ID Acc 0.7545 | Time(s) 0.0774\n",
      "Epoch 00013 | Loss 0.6351 | Test OOD Acc 0.7263 | Test ID Acc 0.7723 | Time(s) 0.0769\n",
      "Epoch 00014 | Loss 0.5646 | Test OOD Acc 0.7112 | Test ID Acc 0.7946 | Time(s) 0.0773\n",
      "Epoch 00015 | Loss 0.4716 | Test OOD Acc 0.7047 | Test ID Acc 0.8036 | Time(s) 0.0773\n",
      "Epoch 00016 | Loss 0.4240 | Test OOD Acc 0.6940 | Test ID Acc 0.7991 | Time(s) 0.0769\n",
      "Epoch 00017 | Loss 0.4041 | Test OOD Acc 0.6897 | Test ID Acc 0.7946 | Time(s) 0.0768\n",
      "Epoch 00018 | Loss 0.3959 | Test OOD Acc 0.7047 | Test ID Acc 0.8036 | Time(s) 0.0768\n",
      "Epoch 00019 | Loss 0.3398 | Test OOD Acc 0.7069 | Test ID Acc 0.8036 | Time(s) 0.0770\n",
      "Epoch 00020 | Loss 0.2888 | Test OOD Acc 0.7134 | Test ID Acc 0.8080 | Time(s) 0.0769\n",
      "Epoch 00021 | Loss 0.2489 | Test OOD Acc 0.7177 | Test ID Acc 0.8170 | Time(s) 0.0770\n",
      "Epoch 00022 | Loss 0.2262 | Test OOD Acc 0.7091 | Test ID Acc 0.8036 | Time(s) 0.0768\n",
      "Epoch 00023 | Loss 0.2096 | Test OOD Acc 0.7284 | Test ID Acc 0.7946 | Time(s) 0.0766\n",
      "Epoch 00024 | Loss 0.1936 | Test OOD Acc 0.7284 | Test ID Acc 0.8036 | Time(s) 0.0765\n",
      "Epoch 00025 | Loss 0.1793 | Test OOD Acc 0.7328 | Test ID Acc 0.8080 | Time(s) 0.0764\n",
      "Epoch 00026 | Loss 0.1671 | Test OOD Acc 0.7263 | Test ID Acc 0.8125 | Time(s) 0.0765\n",
      "Epoch 00027 | Loss 0.1587 | Test OOD Acc 0.7263 | Test ID Acc 0.8080 | Time(s) 0.0769\n",
      "Epoch 00028 | Loss 0.1518 | Test OOD Acc 0.7306 | Test ID Acc 0.8125 | Time(s) 0.0769\n",
      "Epoch 00029 | Loss 0.1427 | Test OOD Acc 0.7284 | Test ID Acc 0.8080 | Time(s) 0.0771\n",
      "Epoch 00030 | Loss 0.1324 | Test OOD Acc 0.7371 | Test ID Acc 0.8080 | Time(s) 0.0770\n",
      "Epoch 00031 | Loss 0.1229 | Test OOD Acc 0.7414 | Test ID Acc 0.8125 | Time(s) 0.0768\n",
      "Epoch 00032 | Loss 0.1154 | Test OOD Acc 0.7435 | Test ID Acc 0.8080 | Time(s) 0.0767\n",
      "Epoch 00033 | Loss 0.1093 | Test OOD Acc 0.7457 | Test ID Acc 0.8080 | Time(s) 0.0769\n",
      "Epoch 00034 | Loss 0.1031 | Test OOD Acc 0.7457 | Test ID Acc 0.8080 | Time(s) 0.0772\n",
      "Epoch 00035 | Loss 0.0965 | Test OOD Acc 0.7478 | Test ID Acc 0.8125 | Time(s) 0.0779\n",
      "Epoch 00036 | Loss 0.0909 | Test OOD Acc 0.7457 | Test ID Acc 0.8125 | Time(s) 0.0781\n",
      "Epoch 00037 | Loss 0.0866 | Test OOD Acc 0.7392 | Test ID Acc 0.8170 | Time(s) 0.0787\n",
      "Epoch 00038 | Loss 0.0832 | Test OOD Acc 0.7371 | Test ID Acc 0.8170 | Time(s) 0.0787\n",
      "Epoch 00039 | Loss 0.0798 | Test OOD Acc 0.7371 | Test ID Acc 0.8170 | Time(s) 0.0787\n",
      "Epoch 00040 | Loss 0.0760 | Test OOD Acc 0.7371 | Test ID Acc 0.8125 | Time(s) 0.0785\n",
      "Epoch 00041 | Loss 0.0718 | Test OOD Acc 0.7435 | Test ID Acc 0.8259 | Time(s) 0.0784\n",
      "Epoch 00042 | Loss 0.0678 | Test OOD Acc 0.7435 | Test ID Acc 0.8259 | Time(s) 0.0783\n",
      "Epoch 00043 | Loss 0.0642 | Test OOD Acc 0.7392 | Test ID Acc 0.8259 | Time(s) 0.0783\n",
      "Epoch 00044 | Loss 0.0608 | Test OOD Acc 0.7371 | Test ID Acc 0.8259 | Time(s) 0.0783\n",
      "Epoch 00045 | Loss 0.0578 | Test OOD Acc 0.7392 | Test ID Acc 0.8259 | Time(s) 0.0792\n",
      "Epoch 00046 | Loss 0.0551 | Test OOD Acc 0.7392 | Test ID Acc 0.8348 | Time(s) 0.0795\n",
      "Epoch 00047 | Loss 0.0530 | Test OOD Acc 0.7392 | Test ID Acc 0.8393 | Time(s) 0.0795\n",
      "Epoch 00048 | Loss 0.0510 | Test OOD Acc 0.7392 | Test ID Acc 0.8393 | Time(s) 0.0794\n",
      "Epoch 00049 | Loss 0.0490 | Test OOD Acc 0.7435 | Test ID Acc 0.8393 | Time(s) 0.0793\n"
     ]
    }
   ],
   "source": [
    "import time\n",
    "\n",
    "import numpy as np\n",
    "\n",
    "# Add edges between each node and itself to preserve old node representations\n",
    "g.add_edges(g.nodes(), g.nodes())\n",
    "\n",
    "optimizer = th.optim.Adam(net.parameters(), lr=1e-2)\n",
    "dur = []\n",
    "test_acc = []\n",
    "id_test_acc = []\n",
    "train_loss = []\n",
    "for epoch in range(50):\n",
    "    if epoch >= 3:\n",
    "        t0 = time.time()\n",
    "\n",
    "    net.train()\n",
    "    logits = net(g, features)\n",
    "    logp = F.log_softmax(logits, 1)\n",
    "    loss = F.nll_loss(logp[train_mask], labels[train_mask])\n",
    "\n",
    "    optimizer.zero_grad()\n",
    "    loss.backward()\n",
    "    optimizer.step()\n",
    "\n",
    "    if epoch >= 3:\n",
    "        dur.append(time.time() - t0)\n",
    "\n",
    "    acc = evaluate(net, g, features, labels, test_mask)\n",
    "    id_acc = evaluate(net, g, features, labels, test_mask_id)\n",
    "    print(\n",
    "        \"Epoch {:05d} | Loss {:.4f} | Test OOD Acc {:.4f} | Test ID Acc {:.4f} | Time(s) {:.4f}\".format(\n",
    "            epoch, loss.item(), acc, id_acc, np.mean(dur)\n",
    "        )\n",
    "    )\n",
    "    test_acc.append(acc)\n",
    "    id_test_acc.append(id_acc)\n",
    "    train_loss.append(loss.item())"
   ]
  },
  {
   "cell_type": "code",
   "execution_count": 260,
   "id": "5856e3ed",
   "metadata": {},
   "outputs": [
    {
     "data": {
      "image/png": "[encoded data removed]",
      "text/plain": [
       "<Figure size 640x480 with 1 Axes>"
      ]
     },
     "metadata": {},
     "output_type": "display_data"
    }
   ],
   "source": [
    "import matplotlib.pyplot as plt\n",
    "\n",
    "plt.plot(test_acc[4:], label=\"ood test\")\n",
    "plt.plot(id_test_acc[4:], label=\"id test\")\n",
    "plt.plot(train_loss[4:], label=\"train\")\n",
    "plt.legend()\n",
    "plt.show()"
   ]
  },
  {
   "cell_type": "code",
   "execution_count": 228,
   "id": "774831bd",
   "metadata": {},
   "outputs": [
    {
     "data": {
      "text/html": [
       "<div>\n",
       "<style scoped>\n",
       "    .dataframe tbody tr th:only-of-type {\n",
       "        vertical-align: middle;\n",
       "    }\n",
       "\n",
       "    .dataframe tbody tr th {\n",
       "        vertical-align: top;\n",
       "    }\n",
       "\n",
       "    .dataframe thead th {\n",
       "        text-align: right;\n",
       "    }\n",
       "</style>\n",
       "<table border=\"1\" class=\"dataframe\">\n",
       "  <thead>\n",
       "    <tr style=\"text-align: right;\">\n",
       "      <th></th>\n",
       "      <th>feats</th>\n",
       "      <th>labels</th>\n",
       "    </tr>\n",
       "  </thead>\n",
       "  <tbody>\n",
       "    <tr>\n",
       "      <th>0</th>\n",
       "      <td>0</td>\n",
       "      <td>3</td>\n",
       "    </tr>\n",
       "    <tr>\n",
       "      <th>1</th>\n",
       "      <td>1</td>\n",
       "      <td>3</td>\n",
       "    </tr>\n",
       "    <tr>\n",
       "      <th>2</th>\n",
       "      <td>2</td>\n",
       "      <td>2</td>\n",
       "    </tr>\n",
       "    <tr>\n",
       "      <th>3</th>\n",
       "      <td>3</td>\n",
       "      <td>3</td>\n",
       "    </tr>\n",
       "    <tr>\n",
       "      <th>4</th>\n",
       "      <td>4</td>\n",
       "      <td>1</td>\n",
       "    </tr>\n",
       "  </tbody>\n",
       "</table>\n",
       "</div>"
      ],
      "text/plain": [
       "   feats  labels\n",
       "0      0       3\n",
       "1      1       3\n",
       "2      2       2\n",
       "3      3       3\n",
       "4      4       1"
      ]
     },
     "execution_count": 228,
     "metadata": {},
     "output_type": "execute_result"
    }
   ],
   "source": [
    "cora_datasets, cora_meta_info = GOODCora.load(\"good_data/\", domain='word', shift='covariate', generate=False)\n",
    "dataset = cora_datasets.data\n",
    "\n",
    "# dataset = CoraGraphDataset()\n",
    "\n",
    "\n",
    "g = dgl.graph((dataset.edge_index[0], dataset.edge_index[1]))\n",
    "g.ndata['feats'] = dataset.x\n",
    "g.ndata['labels'] = dataset.y\n",
    "g.ndata['train_mask'] = dataset.train_mask\n",
    "g.ndata['val_mask'] = dataset.val_mask\n",
    "g.ndata['test_mask'] = dataset.test_mask\n",
    "g.ndata['id_val_mask'] = dataset.id_val_mask\n",
    "g.ndata['id_test_mask'] = dataset.id_test_mask\n",
    "\n",
    "\n",
    "labels_to_keep = [57, 33, 27, 7, 53]\n",
    "labels_not_to_keep = list(set(range(70)) - set(labels_to_keep))\n",
    "for label in labels_not_to_keep:\n",
    "    label_idx = g.ndata['labels'] == label\n",
    "    idxs = [i for i, x in enumerate(label_idx) if x]\n",
    "    \n",
    "    g = dgl.remove_nodes(g, idxs)\n",
    "\n",
    "label_map = {\n",
    "    57: 0,\n",
    "    33: 1,\n",
    "    27: 2,\n",
    "    7: 3,\n",
    "    53: 4\n",
    "}\n",
    "\n",
    "for i in range(g.num_nodes()):\n",
    "    g.ndata['labels'][i] = torch.tensor(label_map[int(g.ndata['labels'][i])])\n",
    "    \n",
    "feats = g.ndata['feats'] \n",
    "labels = g.ndata['labels']\n",
    "data = pd.DataFrame({'feats': torch.tensor(range(feats.shape[0])), 'labels': labels})\n",
    "data['labels'].value_counts()\n",
    "\n",
    "import pandas as pd\n",
    "\n",
    "feats = g.ndata['feats']\n",
    "labels = g.ndata['labels']\n",
    "data = pd.DataFrame({'feats': torch.tensor(range(feats.shape[0])), 'labels': labels})\n",
    "data.head()"
   ]
  },
  {
   "cell_type": "code",
   "execution_count": 229,
   "id": "fdaf802e",
   "metadata": {},
   "outputs": [
    {
     "name": "stdout",
     "output_type": "stream",
     "text": [
      "torch.Size([3879, 8710])\n"
     ]
    }
   ],
   "source": [
    "features = g.ndata[\"feats\"]\n",
    "labels = g.ndata[\"labels\"]\n",
    "train_mask = g.ndata[\"train_mask\"]\n",
    "test_mask = g.ndata[\"test_mask\"]\n",
    "test_mask_id = g.ndata[\"id_test_mask\"]\n",
    "print(features.shape)"
   ]
  },
  {
   "cell_type": "code",
   "execution_count": 230,
   "id": "36610bf4",
   "metadata": {},
   "outputs": [
    {
     "data": {
      "text/plain": [
       "(tensor(1786), tensor(587), tensor(415))"
      ]
     },
     "execution_count": 230,
     "metadata": {},
     "output_type": "execute_result"
    }
   ],
   "source": [
    "sum(train_mask), sum(test_mask), sum(test_mask_id)"
   ]
  },
  {
   "cell_type": "code",
   "execution_count": 231,
   "id": "4007fe92",
   "metadata": {},
   "outputs": [
    {
     "name": "stderr",
     "output_type": "stream",
     "text": [
      "/opt/homebrew/Caskroom/miniforge/base/envs/ml/lib/python3.8/site-packages/torch/amp/autocast_mode.py:198: UserWarning: User provided device_type of 'cuda', but CUDA is not available. Disabling\n",
      "  warnings.warn('User provided device_type of \\'cuda\\', but CUDA is not available. Disabling')\n",
      "/opt/homebrew/Caskroom/miniforge/base/envs/ml/lib/python3.8/site-packages/numpy/core/fromnumeric.py:3432: RuntimeWarning: Mean of empty slice.\n",
      "  return _methods._mean(a, axis=axis, dtype=dtype,\n",
      "/opt/homebrew/Caskroom/miniforge/base/envs/ml/lib/python3.8/site-packages/numpy/core/_methods.py:190: RuntimeWarning: invalid value encountered in double_scalars\n",
      "  ret = ret.dtype.type(ret / rcount)\n"
     ]
    },
    {
     "name": "stdout",
     "output_type": "stream",
     "text": [
      "Epoch 00000 | Loss 1.6674 | Test OOD Acc 0.2947 | Test ID Acc 0.2771 | Time(s) nan\n",
      "Epoch 00001 | Loss 9.9798 | Test OOD Acc 0.4668 | Test ID Acc 0.4867 | Time(s) nan\n",
      "Epoch 00002 | Loss 8.0029 | Test OOD Acc 0.4463 | Test ID Acc 0.4916 | Time(s) nan\n",
      "Epoch 00003 | Loss 10.9839 | Test OOD Acc 0.6542 | Test ID Acc 0.7373 | Time(s) 0.1856\n",
      "Epoch 00004 | Loss 10.6806 | Test OOD Acc 0.6780 | Test ID Acc 0.7470 | Time(s) 0.1762\n",
      "Epoch 00005 | Loss 9.1898 | Test OOD Acc 0.6559 | Test ID Acc 0.6916 | Time(s) 0.1765\n",
      "Epoch 00006 | Loss 6.2412 | Test OOD Acc 0.6917 | Test ID Acc 0.7711 | Time(s) 0.1768\n",
      "Epoch 00007 | Loss 3.4526 | Test OOD Acc 0.6150 | Test ID Acc 0.6723 | Time(s) 0.1722\n",
      "Epoch 00008 | Loss 4.9308 | Test OOD Acc 0.7223 | Test ID Acc 0.8217 | Time(s) 0.1738\n",
      "Epoch 00009 | Loss 1.9603 | Test OOD Acc 0.7445 | Test ID Acc 0.8337 | Time(s) 0.1717\n",
      "Epoch 00010 | Loss 1.9559 | Test OOD Acc 0.7189 | Test ID Acc 0.8169 | Time(s) 0.1731\n",
      "Epoch 00011 | Loss 2.0305 | Test OOD Acc 0.7581 | Test ID Acc 0.8434 | Time(s) 0.1743\n",
      "Epoch 00012 | Loss 1.9837 | Test OOD Acc 0.7768 | Test ID Acc 0.8458 | Time(s) 0.1778\n",
      "Epoch 00013 | Loss 1.8870 | Test OOD Acc 0.7956 | Test ID Acc 0.8602 | Time(s) 0.1776\n",
      "Epoch 00014 | Loss 1.7493 | Test OOD Acc 0.8007 | Test ID Acc 0.8651 | Time(s) 0.1764\n",
      "Epoch 00015 | Loss 1.6181 | Test OOD Acc 0.8109 | Test ID Acc 0.8916 | Time(s) 0.1751\n",
      "Epoch 00016 | Loss 1.5215 | Test OOD Acc 0.8228 | Test ID Acc 0.8843 | Time(s) 0.1750\n",
      "Epoch 00017 | Loss 1.4610 | Test OOD Acc 0.8262 | Test ID Acc 0.8771 | Time(s) 0.1739\n",
      "Epoch 00018 | Loss 1.4456 | Test OOD Acc 0.8279 | Test ID Acc 0.8699 | Time(s) 0.1728\n",
      "Epoch 00019 | Loss 1.4391 | Test OOD Acc 0.8296 | Test ID Acc 0.8578 | Time(s) 0.1722\n",
      "Epoch 00020 | Loss 1.4096 | Test OOD Acc 0.8262 | Test ID Acc 0.8675 | Time(s) 0.1711\n",
      "Epoch 00021 | Loss 1.3571 | Test OOD Acc 0.8211 | Test ID Acc 0.8819 | Time(s) 0.1708\n",
      "Epoch 00022 | Loss 1.3021 | Test OOD Acc 0.8194 | Test ID Acc 0.8795 | Time(s) 0.1700\n",
      "Epoch 00023 | Loss 1.2393 | Test OOD Acc 0.8160 | Test ID Acc 0.8795 | Time(s) 0.1692\n",
      "Epoch 00024 | Loss 1.1662 | Test OOD Acc 0.8126 | Test ID Acc 0.8771 | Time(s) 0.1690\n",
      "Epoch 00025 | Loss 1.0827 | Test OOD Acc 0.8041 | Test ID Acc 0.8723 | Time(s) 0.1681\n",
      "Epoch 00026 | Loss 0.9984 | Test OOD Acc 0.8058 | Test ID Acc 0.8675 | Time(s) 0.1679\n",
      "Epoch 00027 | Loss 0.9198 | Test OOD Acc 0.8092 | Test ID Acc 0.8723 | Time(s) 0.1673\n",
      "Epoch 00028 | Loss 0.8541 | Test OOD Acc 0.8007 | Test ID Acc 0.8747 | Time(s) 0.1669\n",
      "Epoch 00029 | Loss 0.8007 | Test OOD Acc 0.7922 | Test ID Acc 0.8651 | Time(s) 0.1666\n",
      "Epoch 00030 | Loss 0.7667 | Test OOD Acc 0.7939 | Test ID Acc 0.8675 | Time(s) 0.1660\n",
      "Epoch 00031 | Loss 0.7430 | Test OOD Acc 0.7990 | Test ID Acc 0.8723 | Time(s) 0.1660\n",
      "Epoch 00032 | Loss 0.6962 | Test OOD Acc 0.8041 | Test ID Acc 0.8747 | Time(s) 0.1665\n",
      "Epoch 00033 | Loss 0.6220 | Test OOD Acc 0.8058 | Test ID Acc 0.8843 | Time(s) 0.1662\n",
      "Epoch 00034 | Loss 0.5394 | Test OOD Acc 0.8041 | Test ID Acc 0.8916 | Time(s) 0.1658\n",
      "Epoch 00035 | Loss 0.5096 | Test OOD Acc 0.7956 | Test ID Acc 0.8795 | Time(s) 0.1654\n",
      "Epoch 00036 | Loss 0.5427 | Test OOD Acc 0.7973 | Test ID Acc 0.8699 | Time(s) 0.1650\n",
      "Epoch 00037 | Loss 0.5243 | Test OOD Acc 0.8007 | Test ID Acc 0.8699 | Time(s) 0.1656\n",
      "Epoch 00038 | Loss 0.4447 | Test OOD Acc 0.7990 | Test ID Acc 0.8699 | Time(s) 0.1655\n",
      "Epoch 00039 | Loss 0.4589 | Test OOD Acc 0.7939 | Test ID Acc 0.8627 | Time(s) 0.1662\n",
      "Epoch 00040 | Loss 0.4881 | Test OOD Acc 0.7939 | Test ID Acc 0.8651 | Time(s) 0.1677\n",
      "Epoch 00041 | Loss 0.4650 | Test OOD Acc 0.7802 | Test ID Acc 0.8627 | Time(s) 0.1673\n",
      "Epoch 00042 | Loss 0.4040 | Test OOD Acc 0.7649 | Test ID Acc 0.8386 | Time(s) 0.1669\n",
      "Epoch 00043 | Loss 0.4456 | Test OOD Acc 0.7649 | Test ID Acc 0.8361 | Time(s) 0.1668\n",
      "Epoch 00044 | Loss 0.4124 | Test OOD Acc 0.7717 | Test ID Acc 0.8602 | Time(s) 0.1665\n",
      "Epoch 00045 | Loss 0.3769 | Test OOD Acc 0.7785 | Test ID Acc 0.8578 | Time(s) 0.1663\n",
      "Epoch 00046 | Loss 0.3946 | Test OOD Acc 0.7853 | Test ID Acc 0.8651 | Time(s) 0.1660\n",
      "Epoch 00047 | Loss 0.3685 | Test OOD Acc 0.7853 | Test ID Acc 0.8675 | Time(s) 0.1660\n",
      "Epoch 00048 | Loss 0.3262 | Test OOD Acc 0.7853 | Test ID Acc 0.8651 | Time(s) 0.1656\n",
      "Epoch 00049 | Loss 0.3233 | Test OOD Acc 0.7956 | Test ID Acc 0.8795 | Time(s) 0.1653\n"
     ]
    }
   ],
   "source": [
    "import time\n",
    "\n",
    "import numpy as np\n",
    "\n",
    "net = Net()\n",
    "\n",
    "\n",
    "# Add edges between each node and itself to preserve old node representations\n",
    "g.add_edges(g.nodes(), g.nodes())\n",
    "\n",
    "optimizer = th.optim.Adam(net.parameters(), lr=1e-2)\n",
    "dur = []\n",
    "test_acc = []\n",
    "id_test_acc = []\n",
    "train_loss = []\n",
    "for epoch in range(50):\n",
    "    if epoch >= 3:\n",
    "        t0 = time.time()\n",
    "\n",
    "    net.train()\n",
    "    logits = net(g, features)\n",
    "    logp = F.log_softmax(logits, 1)\n",
    "    loss = F.nll_loss(logp[train_mask], labels[train_mask])\n",
    "\n",
    "    optimizer.zero_grad()\n",
    "    loss.backward()\n",
    "    optimizer.step()\n",
    "\n",
    "    if epoch >= 3:\n",
    "        dur.append(time.time() - t0)\n",
    "\n",
    "    acc = evaluate(net, g, features, labels, test_mask)\n",
    "    id_acc = evaluate(net, g, features, labels, test_mask_id)\n",
    "    print(\n",
    "        \"Epoch {:05d} | Loss {:.4f} | Test OOD Acc {:.4f} | Test ID Acc {:.4f} | Time(s) {:.4f}\".format(\n",
    "            epoch, loss.item(), acc, id_acc, np.mean(dur)\n",
    "        )\n",
    "    )\n",
    "    test_acc.append(acc)\n",
    "    id_test_acc.append(id_acc)\n",
    "    train_loss.append(loss.item())"
   ]
  },
  {
   "cell_type": "code",
   "execution_count": 234,
   "id": "82cd403c",
   "metadata": {},
   "outputs": [
    {
     "data": {
      "image/png": "[encoded data removed]",
      "text/plain": [
       "<Figure size 640x480 with 1 Axes>"
      ]
     },
     "metadata": {},
     "output_type": "display_data"
    }
   ],
   "source": [
    "import matplotlib.pyplot as plt\n",
    "\n",
    "plt.plot(test_acc[9:], label=\"ood test\")\n",
    "plt.plot(id_test_acc[9:], label=\"id test\")\n",
    "plt.plot(train_loss[9:], label=\"train\")\n",
    "plt.legend()\n",
    "plt.show()"
   ]
  },
  {
   "cell_type": "code",
   "execution_count": 242,
   "id": "fa680ccc",
   "metadata": {},
   "outputs": [
    {
     "data": {
      "text/plain": [
       "0    928\n",
       "1    855\n",
       "2    783\n",
       "3    663\n",
       "4    650\n",
       "Name: labels, dtype: int64"
      ]
     },
     "execution_count": 242,
     "metadata": {},
     "output_type": "execute_result"
    }
   ],
   "source": [
    "cora_datasets, cora_meta_info = GOODCora.load(\"good_data/\", domain='word', shift='covariate', generate=False)\n",
    "dataset = cora_datasets.data\n",
    "\n",
    "# dataset = CoraGraphDataset()\n",
    "\n",
    "\n",
    "g = dgl.graph((dataset.edge_index[0], dataset.edge_index[1]))\n",
    "g.ndata['feats'] = dataset.x\n",
    "g.ndata['labels'] = dataset.y\n",
    "g.ndata['train_mask'] = dataset.train_mask\n",
    "g.ndata['val_mask'] = dataset.val_mask\n",
    "g.ndata['test_mask'] = dataset.test_mask\n",
    "g.ndata['id_val_mask'] = dataset.id_val_mask\n",
    "g.ndata['id_test_mask'] = dataset.id_test_mask\n",
    "\n",
    "\n",
    "labels_to_keep = [57, 33, 27, 7, 53]\n",
    "labels_not_to_keep = list(set(range(70)) - set(labels_to_keep))\n",
    "for label in labels_not_to_keep:\n",
    "    label_idx = g.ndata['labels'] == label\n",
    "    idxs = [i for i, x in enumerate(label_idx) if x]\n",
    "    \n",
    "    g = dgl.remove_nodes(g, idxs)\n",
    "\n",
    "label_map = {\n",
    "    57: 0,\n",
    "    33: 1,\n",
    "    27: 2,\n",
    "    7: 3,\n",
    "    53: 4\n",
    "}\n",
    "\n",
    "for i in range(g.num_nodes()):\n",
    "    g.ndata['labels'][i] = torch.tensor(label_map[int(g.ndata['labels'][i])])\n",
    "    \n",
    "feats = g.ndata['feats'] \n",
    "labels = g.ndata['labels']\n",
    "data = pd.DataFrame({'feats': torch.tensor(range(feats.shape[0])), 'labels': labels})\n",
    "data['labels'].value_counts()\n",
    "\n",
    "# import pandas as pd\n",
    "\n",
    "# feats = g.ndata['feats']\n",
    "# labels = g.ndata['labels']\n",
    "# data = pd.DataFrame({'feats': torch.tensor(range(feats.shape[0])), 'labels': labels})\n",
    "# data.head()"
   ]
  },
  {
   "cell_type": "code",
   "execution_count": 243,
   "id": "4b7459b3",
   "metadata": {},
   "outputs": [],
   "source": [
    "random_ids = np.random.choice(range(len(data)), len(data) - len(aflite_data), replace=False)"
   ]
  },
  {
   "cell_type": "code",
   "execution_count": 244,
   "id": "392e1a7a",
   "metadata": {},
   "outputs": [],
   "source": [
    "g.remove_nodes(random_ids)"
   ]
  },
  {
   "cell_type": "code",
   "execution_count": 245,
   "id": "804a5426",
   "metadata": {},
   "outputs": [
    {
     "name": "stdout",
     "output_type": "stream",
     "text": [
      "torch.Size([2314, 8710])\n"
     ]
    }
   ],
   "source": [
    "features = g.ndata[\"feats\"]\n",
    "labels = g.ndata[\"labels\"]\n",
    "train_mask = g.ndata[\"train_mask\"]\n",
    "test_mask = g.ndata[\"test_mask\"]\n",
    "test_mask_id = g.ndata[\"id_test_mask\"]\n",
    "print(features.shape)"
   ]
  },
  {
   "cell_type": "code",
   "execution_count": 246,
   "id": "8c0f42d1",
   "metadata": {},
   "outputs": [
    {
     "data": {
      "text/plain": [
       "(tensor(1083), tensor(339), tensor(241))"
      ]
     },
     "execution_count": 246,
     "metadata": {},
     "output_type": "execute_result"
    }
   ],
   "source": [
    "sum(train_mask), sum(test_mask), sum(test_mask_id)"
   ]
  },
  {
   "cell_type": "code",
   "execution_count": 247,
   "id": "de77cf6e",
   "metadata": {},
   "outputs": [
    {
     "name": "stdout",
     "output_type": "stream",
     "text": [
      "Epoch 00000 | Loss 1.8174 | Test OOD Acc 0.1681 | Test ID Acc 0.2116 | Time(s) nan\n",
      "Epoch 00001 | Loss 5.5355 | Test OOD Acc 0.2832 | Test ID Acc 0.3278 | Time(s) nan\n",
      "Epoch 00002 | Loss 3.2465 | Test OOD Acc 0.3097 | Test ID Acc 0.3485 | Time(s) nan\n",
      "Epoch 00003 | Loss 2.2536 | Test OOD Acc 0.3333 | Test ID Acc 0.3402 | Time(s) 0.0831\n",
      "Epoch 00004 | Loss 1.6231 | Test OOD Acc 0.3923 | Test ID Acc 0.4066 | Time(s) 0.0793\n",
      "Epoch 00005 | Loss 1.3279 | Test OOD Acc 0.4484 | Test ID Acc 0.4689 | Time(s) 0.0817\n",
      "Epoch 00006 | Loss 1.1833 | Test OOD Acc 0.5015 | Test ID Acc 0.5353 | Time(s) 0.0787\n",
      "Epoch 00007 | Loss 1.1053 | Test OOD Acc 0.5015 | Test ID Acc 0.5228 | Time(s) 0.0774\n",
      "Epoch 00008 | Loss 1.0707 | Test OOD Acc 0.5103 | Test ID Acc 0.5602 | Time(s) 0.0806\n",
      "Epoch 00009 | Loss 1.0335 | Test OOD Acc 0.5015 | Test ID Acc 0.5560 | Time(s) 0.0797\n",
      "Epoch 00010 | Loss 1.0160 | Test OOD Acc 0.5044 | Test ID Acc 0.5726 | Time(s) 0.0785\n",
      "Epoch 00011 | Loss 0.9870 | Test OOD Acc 0.5103 | Test ID Acc 0.5643 | Time(s) 0.0785\n",
      "Epoch 00012 | Loss 0.9587 | Test OOD Acc 0.5044 | Test ID Acc 0.5602 | Time(s) 0.0806\n",
      "Epoch 00013 | Loss 0.9184 | Test OOD Acc 0.5044 | Test ID Acc 0.5685 | Time(s) 0.0796\n",
      "Epoch 00014 | Loss 0.8827 | Test OOD Acc 0.5133 | Test ID Acc 0.5809 | Time(s) 0.0792\n",
      "Epoch 00015 | Loss 0.8450 | Test OOD Acc 0.5310 | Test ID Acc 0.5934 | Time(s) 0.0792\n",
      "Epoch 00016 | Loss 0.8072 | Test OOD Acc 0.5251 | Test ID Acc 0.6100 | Time(s) 0.0793\n",
      "Epoch 00017 | Loss 0.7753 | Test OOD Acc 0.5310 | Test ID Acc 0.6349 | Time(s) 0.0788\n",
      "Epoch 00018 | Loss 0.7431 | Test OOD Acc 0.5280 | Test ID Acc 0.6390 | Time(s) 0.0795\n",
      "Epoch 00019 | Loss 0.7088 | Test OOD Acc 0.5575 | Test ID Acc 0.7054 | Time(s) 0.0795\n",
      "Epoch 00020 | Loss 0.6759 | Test OOD Acc 0.5752 | Test ID Acc 0.6929 | Time(s) 0.0801\n",
      "Epoch 00021 | Loss 0.6489 | Test OOD Acc 0.5870 | Test ID Acc 0.6846 | Time(s) 0.0797\n",
      "Epoch 00022 | Loss 0.6263 | Test OOD Acc 0.5988 | Test ID Acc 0.6805 | Time(s) 0.0794\n",
      "Epoch 00023 | Loss 0.6072 | Test OOD Acc 0.6077 | Test ID Acc 0.7012 | Time(s) 0.0792\n",
      "Epoch 00024 | Loss 0.5902 | Test OOD Acc 0.6136 | Test ID Acc 0.7427 | Time(s) 0.0789\n",
      "Epoch 00025 | Loss 0.5734 | Test OOD Acc 0.6254 | Test ID Acc 0.7676 | Time(s) 0.0789\n",
      "Epoch 00026 | Loss 0.5560 | Test OOD Acc 0.6342 | Test ID Acc 0.7842 | Time(s) 0.0788\n",
      "Epoch 00027 | Loss 0.5386 | Test OOD Acc 0.6401 | Test ID Acc 0.7925 | Time(s) 0.0793\n",
      "Epoch 00028 | Loss 0.5214 | Test OOD Acc 0.6372 | Test ID Acc 0.7967 | Time(s) 0.0791\n",
      "Epoch 00029 | Loss 0.5039 | Test OOD Acc 0.6431 | Test ID Acc 0.8050 | Time(s) 0.0795\n",
      "Epoch 00030 | Loss 0.4884 | Test OOD Acc 0.6519 | Test ID Acc 0.8257 | Time(s) 0.0796\n",
      "Epoch 00031 | Loss 0.4742 | Test OOD Acc 0.6578 | Test ID Acc 0.8340 | Time(s) 0.0804\n",
      "Epoch 00032 | Loss 0.4599 | Test OOD Acc 0.6726 | Test ID Acc 0.8465 | Time(s) 0.0801\n",
      "Epoch 00033 | Loss 0.4466 | Test OOD Acc 0.6814 | Test ID Acc 0.8423 | Time(s) 0.0801\n",
      "Epoch 00034 | Loss 0.4331 | Test OOD Acc 0.6932 | Test ID Acc 0.8548 | Time(s) 0.0807\n",
      "Epoch 00035 | Loss 0.4196 | Test OOD Acc 0.6962 | Test ID Acc 0.8548 | Time(s) 0.0804\n",
      "Epoch 00036 | Loss 0.4069 | Test OOD Acc 0.6962 | Test ID Acc 0.8589 | Time(s) 0.0800\n",
      "Epoch 00037 | Loss 0.3953 | Test OOD Acc 0.6932 | Test ID Acc 0.8589 | Time(s) 0.0800\n",
      "Epoch 00038 | Loss 0.3822 | Test OOD Acc 0.7021 | Test ID Acc 0.8506 | Time(s) 0.0801\n",
      "Epoch 00039 | Loss 0.3677 | Test OOD Acc 0.7021 | Test ID Acc 0.8465 | Time(s) 0.0804\n",
      "Epoch 00040 | Loss 0.3531 | Test OOD Acc 0.6991 | Test ID Acc 0.8423 | Time(s) 0.0803\n",
      "Epoch 00041 | Loss 0.3369 | Test OOD Acc 0.7139 | Test ID Acc 0.8506 | Time(s) 0.0800\n",
      "Epoch 00042 | Loss 0.3180 | Test OOD Acc 0.7168 | Test ID Acc 0.8548 | Time(s) 0.0802\n",
      "Epoch 00043 | Loss 0.2989 | Test OOD Acc 0.7109 | Test ID Acc 0.8548 | Time(s) 0.0802\n",
      "Epoch 00044 | Loss 0.2780 | Test OOD Acc 0.7139 | Test ID Acc 0.8589 | Time(s) 0.0803\n",
      "Epoch 00045 | Loss 0.2556 | Test OOD Acc 0.7139 | Test ID Acc 0.8631 | Time(s) 0.0801\n",
      "Epoch 00046 | Loss 0.2367 | Test OOD Acc 0.7168 | Test ID Acc 0.8589 | Time(s) 0.0802\n",
      "Epoch 00047 | Loss 0.2217 | Test OOD Acc 0.7109 | Test ID Acc 0.8589 | Time(s) 0.0800\n",
      "Epoch 00048 | Loss 0.2086 | Test OOD Acc 0.7286 | Test ID Acc 0.8589 | Time(s) 0.0798\n",
      "Epoch 00049 | Loss 0.1980 | Test OOD Acc 0.7316 | Test ID Acc 0.8589 | Time(s) 0.0798\n"
     ]
    }
   ],
   "source": [
    "import time\n",
    "\n",
    "import numpy as np\n",
    "\n",
    "net = Net()\n",
    "\n",
    "# Add edges between each node and itself to preserve old node representations\n",
    "g.add_edges(g.nodes(), g.nodes())\n",
    "\n",
    "optimizer = th.optim.Adam(net.parameters(), lr=1e-2)\n",
    "dur = []\n",
    "test_acc = []\n",
    "id_test_acc = []\n",
    "train_loss = []\n",
    "for epoch in range(50):\n",
    "    if epoch >= 3:\n",
    "        t0 = time.time()\n",
    "\n",
    "    net.train()\n",
    "    logits = net(g, features)\n",
    "    logp = F.log_softmax(logits, 1)\n",
    "    loss = F.nll_loss(logp[train_mask], labels[train_mask])\n",
    "\n",
    "    optimizer.zero_grad()\n",
    "    loss.backward()\n",
    "    optimizer.step()\n",
    "\n",
    "    if epoch >= 3:\n",
    "        dur.append(time.time() - t0)\n",
    "\n",
    "    acc = evaluate(net, g, features, labels, test_mask)\n",
    "    id_acc = evaluate(net, g, features, labels, test_mask_id)\n",
    "    print(\n",
    "        \"Epoch {:05d} | Loss {:.4f} | Test OOD Acc {:.4f} | Test ID Acc {:.4f} | Time(s) {:.4f}\".format(\n",
    "            epoch, loss.item(), acc, id_acc, np.mean(dur)\n",
    "        )\n",
    "    )\n",
    "    test_acc.append(acc)\n",
    "    id_test_acc.append(id_acc)\n",
    "    train_loss.append(loss.item())"
   ]
  },
  {
   "cell_type": "code",
   "execution_count": 249,
   "id": "30c0f69a",
   "metadata": {},
   "outputs": [
    {
     "data": {
      "image/png": "[encoded data removed]",
      "text/plain": [
       "<Figure size 640x480 with 1 Axes>"
      ]
     },
     "metadata": {},
     "output_type": "display_data"
    }
   ],
   "source": [
    "import matplotlib.pyplot as plt\n",
    "\n",
    "plt.plot(test_acc[4:], label=\"ood test\")\n",
    "plt.plot(id_test_acc[4:], label=\"id test\")\n",
    "plt.plot(train_loss[4:], label=\"train\")\n",
    "plt.legend()\n",
    "plt.show()"
   ]
  },
  {
   "cell_type": "code",
   "execution_count": null,
   "id": "ec44a292",
   "metadata": {},
   "outputs": [],
   "source": []
  },
  {
   "cell_type": "code",
   "execution_count": null,
   "id": "8e0514fd",
   "metadata": {},
   "outputs": [],
   "source": []
  }
 ],
 "metadata": {
  "kernelspec": {
   "display_name": "Python 3 (ipykernel)",
   "language": "python",
   "name": "python3"
  },
  "language_info": {
   "codemirror_mode": {
    "name": "ipython",
    "version": 3
   },
   "file_extension": ".py",
   "mimetype": "text/x-python",
   "name": "python",
   "nbconvert_exporter": "python",
   "pygments_lexer": "ipython3",
   "version": "3.8.6"
  }
 },
 "nbformat": 4,
 "nbformat_minor": 5
}
